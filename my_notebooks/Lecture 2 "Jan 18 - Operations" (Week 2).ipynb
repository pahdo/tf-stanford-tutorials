{
 "cells": [
  {
   "cell_type": "code",
   "execution_count": 1,
   "metadata": {},
   "outputs": [
    {
     "name": "stdout",
     "output_type": "stream",
     "text": [
      "5\n"
     ]
    }
   ],
   "source": [
    "\"\"\"Write a TensorFlow program and visualize it with TensorBoard\"\"\"\n",
    "import tensorflow as tf\n",
    "a = tf.constant(2, name=\"a\")\n",
    "b = tf.constant(3, name=\"b\")\n",
    "x = tf.add(a,b, name=\"add\")\n",
    "\n",
    "with tf.Session() as sess:\n",
    "    writer = tf.summary.FileWriter('./graphs', sess.graph)\n",
    "    print(sess.run(x))\n",
    "    \n",
    "writer.close()"
   ]
  },
  {
   "cell_type": "code",
   "execution_count": 2,
   "metadata": {
    "collapsed": true
   },
   "outputs": [],
   "source": [
    "# Run in terminal: tensorboard  -- logdir = \"./graphs\""
   ]
  },
  {
   "cell_type": "code",
   "execution_count": 3,
   "metadata": {
    "collapsed": true
   },
   "outputs": [],
   "source": [
    "# constant of a 1-d tensor (vector)\n",
    "a = tf.constant([2,2], name = \"vector\")\n",
    "\n",
    "# constant of a 2-d tensor (matrix)\n",
    "b = tf.constant([[0,1],[2,3]], name = \"b\")"
   ]
  },
  {
   "cell_type": "code",
   "execution_count": 4,
   "metadata": {},
   "outputs": [
    {
     "data": {
      "text/plain": [
       "'TensorFlow was designed to integrate seamlessly with NumPy, the lingua franca of data science\\nMost of the time, you can use TensorFlow and NumPy types interchangeably'"
      ]
     },
     "execution_count": 4,
     "metadata": {},
     "output_type": "execute_result"
    }
   ],
   "source": [
    "# create a tensor filled with a scalar value\n",
    "tf.fill([2,3], 8) #==> [[8,8,8],[8,8,8]]\n",
    "\"\"\"TensorFlow was designed to integrate seamlessly with NumPy, the lingua franca of data science\n",
    "Most of the time, you can use TensorFlow and NumPy types interchangeably\"\"\""
   ]
  },
  {
   "cell_type": "code",
   "execution_count": 5,
   "metadata": {
    "collapsed": true
   },
   "outputs": [],
   "source": [
    "\"\"\"Constants - Stored in the graph definition\n",
    "Variables - Stored separately\"\"\"\n",
    "# Create a variable with a scalar value\n",
    "a = tf.Variable(2, name=\"scalar\")\n",
    "\n",
    "# Create a vector var.\n",
    "b = tf.Variable([2,3], name=\"vector\")\n",
    "\n",
    "# Create a 2x2 matrix variable \"c\"\n",
    "c = tf.Variable([[0,1],[2,3]], name=\"matrix\")\n",
    "\n",
    "# Create a variable W as a 784 x 10 tensor, filled with zeros\n",
    "W = tf.Variable(tf.zeros([784,10]))"
   ]
  },
  {
   "cell_type": "code",
   "execution_count": 6,
   "metadata": {
    "collapsed": true
   },
   "outputs": [],
   "source": [
    "\"\"\"Initialize all variables at once\"\"\"\n",
    "init = tf.global_variables_initializer()\n",
    "with tf.Session() as sess:\n",
    "    sess.run(init)\n",
    "\"\"\"Initialize a subset of variables\"\"\"\n",
    "init_ab = tf.variables_initializer([a,b],name=\"init_ab\")\n",
    "with tf.Session() as sess:\n",
    "    sess.run(init_ab)\n",
    "\"\"\"Initialize a variable individually\"\"\"\n",
    "W = tf.Variable(tf.zeros([784,10]))\n",
    "with tf.Session() as sess:\n",
    "    sess.run(W.initializer)"
   ]
  },
  {
   "cell_type": "code",
   "execution_count": 7,
   "metadata": {},
   "outputs": [
    {
     "name": "stdout",
     "output_type": "stream",
     "text": [
      "100\n"
     ]
    }
   ],
   "source": [
    "\"\"\"Assign values to variables\"\"\"\n",
    "W = tf.Variable(10)\n",
    "assign_op = W.assign(100)\n",
    "with tf.Session() as sess:\n",
    "    sess.run(assign_op) # assign() initializes for us - the initializer op is the assign op that assigns the variable's initial value to the variable itself.\n",
    "    print(W.eval())\n",
    "    \n",
    "\"\"\"Suppose you want to declare U = W * 2\"\"\"\n",
    "W = tf.Variable(tf.truncated_normal([700, 10]))\n",
    "U = tf.Variable(W.initialized_value() * 2)"
   ]
  },
  {
   "cell_type": "code",
   "execution_count": 8,
   "metadata": {},
   "outputs": [
    {
     "name": "stdout",
     "output_type": "stream",
     "text": [
      "30.0\n"
     ]
    }
   ],
   "source": [
    "\"\"\"InteractiveSession: default so you can call run() or eval() without\n",
    "explicitly calling the session. Convenient in IPython notebooks.\"\"\"\n",
    "sess = tf.InteractiveSession()\n",
    "a = tf.constant(5.0)\n",
    "b = tf.constant(6.0)\n",
    "c = a * b\n",
    "# We can just use c.val() without passing sess\n",
    "print(c.eval())\n",
    "sess.close()"
   ]
  },
  {
   "cell_type": "markdown",
   "metadata": {},
   "source": [
    "Control dependencies - your graph g has 5 ops a, b, c, d, e\n",
    "\n",
    "```\n",
    "with g.control_dependencies([a,b,c]):\n",
    "    # 'd' and 'e' will only run after 'a','b', and 'c' have been executed\n",
    "    d = ...\n",
    "    e = ...```"
   ]
  },
  {
   "cell_type": "code",
   "execution_count": 9,
   "metadata": {},
   "outputs": [
    {
     "name": "stdout",
     "output_type": "stream",
     "text": [
      "[ 6.  7.  8.]\n"
     ]
    }
   ],
   "source": [
    "'''We can assemble graphs first without knowing the values needed for computation'''\n",
    "# Create a placeholder of float 32-bit, shape is a vector of 3 elements\n",
    "a = tf.placeholder(tf.float32, shape=[3])\n",
    "\n",
    "# create a constant of type float 32-bit, shape is a vector of 3 elements\n",
    "b = tf.constant([5,5,5], tf.float32)\n",
    "\n",
    "# use the placeholder as you would a constant or a variable\n",
    "c = a + b # short for tf.add(a,b)\n",
    "\n",
    "with tf.Session() as sess:\n",
    "    writer = tf.summary.FileWriter('./my_graph', sess.graph)\n",
    "    # Feed [1,2,3] to placeholder 'a' via the dict {a: [1,2,3]}\n",
    "    # fetch the value of c\n",
    "    print(sess.run(c, {a: [1,2,3]}))\n",
    "    \n",
    "writer.close()"
   ]
  },
  {
   "cell_type": "markdown",
   "metadata": {},
   "source": [
    "We can feed as many data points to the placeholder as we want by iterating through the data set and feeding in one value at a time\n",
    "```\n",
    "with tf.Session() as sess:\n",
    "    for a_value in list_of_a_values:\n",
    "        print(sess.run(c, {a: a_value}))\n",
    "```\n",
    "        \n",
    "You can feed values to tensors that aren't placeholders. Any tensors that are feedable can be fed. To check, use:\n",
    "```\n",
    "tf.Graph.is_feedable(tensor)\n",
    "```\n"
   ]
  },
  {
   "cell_type": "code",
   "execution_count": 10,
   "metadata": {},
   "outputs": [
    {
     "data": {
      "text/plain": [
       "\"feed_dict can be extremely useful to test you rmodel. When you have a \\nlarge graph and just want to test out certain parts, you can provide\\ndummy values so TensorFlow won't waste time doing unnecessary computations\""
      ]
     },
     "execution_count": 10,
     "metadata": {},
     "output_type": "execute_result"
    }
   ],
   "source": [
    "# Create Operations, Tensors, etc. (using the default graph)\n",
    "a = tf.add(2,5)\n",
    "b = tf.multiply(a,3)\n",
    "\n",
    "# Start up a 'session' using the default graph\n",
    "sess = tf.Session()\n",
    "\n",
    "# define a dictionary that says to replace the value of 'a' with 15\n",
    "replace_dict = {a: 15}\n",
    "\n",
    "# Run the session, passing in 'replace_dict' as the value to 'feed_dict'\n",
    "sess.run(b, feed_dict=replace_dict) # Returns 45\n",
    "\n",
    "\"\"\"feed_dict can be extremely useful to test you rmodel. When you have a \n",
    "large graph and just want to test out certain parts, you can provide\n",
    "dummy values so TensorFlow won't waste time doing unnecessary computations\"\"\""
   ]
  },
  {
   "cell_type": "code",
   "execution_count": 11,
   "metadata": {},
   "outputs": [
    {
     "data": {
      "text/plain": [
       "'The trap of lazy loading:\\nLazy loading is deferring creating an op until you need to compute it.\\nYour op node is duplicated many many times, causing your model to\\nbecome bloated and slow.\\nSo to avoid this bug:\\nSeparate the definition of ops and their execution when you can.'"
      ]
     },
     "execution_count": 11,
     "metadata": {},
     "output_type": "execute_result"
    }
   ],
   "source": [
    "\"\"\"The trap of lazy loading:\n",
    "Lazy loading is deferring creating an op until you need to compute it.\n",
    "Your op node is duplicated many many times, causing your model to\n",
    "become bloated and slow.\n",
    "So to avoid this bug:\n",
    "Separate the definition of ops and their execution when you can.\"\"\""
   ]
  },
  {
   "cell_type": "code",
   "execution_count": null,
   "metadata": {
    "collapsed": true
   },
   "outputs": [],
   "source": []
  }
 ],
 "metadata": {
  "kernelspec": {
   "display_name": "Python 3",
   "language": "python",
   "name": "python3"
  },
  "language_info": {
   "codemirror_mode": {
    "name": "ipython",
    "version": 3
   },
   "file_extension": ".py",
   "mimetype": "text/x-python",
   "name": "python",
   "nbconvert_exporter": "python",
   "pygments_lexer": "ipython3",
   "version": "3.6.1"
  }
 },
 "nbformat": 4,
 "nbformat_minor": 2
}
