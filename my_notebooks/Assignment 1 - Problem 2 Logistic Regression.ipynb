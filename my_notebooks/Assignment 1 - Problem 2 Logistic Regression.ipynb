{
 "cells": [
  {
   "cell_type": "markdown",
   "metadata": {},
   "source": [
    "# Assignment 1 - Problem 2: Logistic Regression\n",
    "\n",
    "Build a logistic regression model to predict whether someone has coronary heart disease\n",
    "\n",
    "In the data folder on the class's GitHub repo, you will find heart.txt. The first row is the name of the observed variables. There are 10 vars:\n",
    "* sbp: Systolic blood pressure\n",
    "* tobacco: Cumulative tobacco consumption, in kg\n",
    "* ldl: Low-density liboprotein cholestrol\n",
    "* adiposity: Adipose tissue concentration\n",
    "* famhist: Family history of heart disease (1=Present, 0=Absent)\n",
    "* typea: Score on test designed to measure type-A behavior\n",
    "* obesity: Obesity\n",
    "* alcohol: Current consumption of alcohol\n",
    "* age: Age of subject\n",
    "* chd: Coronary heart disease at baseline; 1=Yes 0=No\n",
    "\n",
    "Each row contains one patient. There are 462 samples in total. You will be using the first 9 variables to predict the last variable. That is, your input will be 1-d tensor of 9 elements, and your label is binary. You should write the function to read in data yourself, and you should take care of dividing your data into train set and test set.\n",
    "\n",
    "Report your results and your hyperparameters."
   ]
  },
  {
   "cell_type": "markdown",
   "metadata": {},
   "source": [
    "## Task 3"
   ]
  },
  {
   "cell_type": "code",
   "execution_count": 45,
   "metadata": {},
   "outputs": [],
   "source": [
    "import csv\n",
    "import numpy as np\n",
    "from sklearn.utils import shuffle # Shuffles multiple arrays in a consistent way\n",
    "\n",
    "\"\"\" Load dataset from tab-separated values file to array \"\"\"\n",
    "dataset = []\n",
    "with open(\"data/heart.txt\") as tsv:\n",
    "    for line in csv.reader(tsv, dialect=\"excel-tab\"):\n",
    "        if (line[4] == 'Present'): # Convert famhist from Present/Absent to 1/0\n",
    "            line[4] = 1\n",
    "        elif (line[4] == 'Absent'):\n",
    "            line[4] = 0\n",
    "        dataset.append(line)\n",
    "dataset = dataset[1:] # Remove header: ['sbp', 'tobacco', ...]\n",
    "\n",
    "\"\"\" Convert dataset to a numpy array \"\"\"\n",
    "dataset = np.array(dataset, dtype = np.float32)\n",
    "\n",
    "\"\"\" Prepare dataset \"\"\"\n",
    "shuffle(dataset)\n",
    "n = len(dataset)\n",
    "validation_start_idx = int(6 * n / 10)\n",
    "test_start_idx = int(8 * n / 10)\n",
    "\n",
    "\"\"\" Split dataset \"\"\"\n",
    "training = dataset[:validation_start_idx]\n",
    "validation = dataset[validation_start_idx:test_start_idx]\n",
    "test = dataset[test_start_idx:]"
   ]
  },
  {
   "cell_type": "code",
   "execution_count": 46,
   "metadata": {},
   "outputs": [],
   "source": [
    "X_data = training[:, :9]\n",
    "Y_data = training[:, 9]\n",
    "\n",
    "X_validation_data = validation[:, :9]\n",
    "Y_validation_data = validation[:, 9]\n",
    "    \n",
    "X_test_data = test[:, :9]\n",
    "Y_test_data = test[:, 9]"
   ]
  },
  {
   "cell_type": "code",
   "execution_count": 47,
   "metadata": {},
   "outputs": [],
   "source": [
    "import tensorflow as tf\n",
    "\n",
    "learning_rate = 0.000001\n",
    "batch_size = 1\n",
    "n_epochs = 200\n",
    "display_step = 10\n",
    "\n",
    "X = tf.placeholder(tf.float32, [batch_size, 9])\n",
    "Y = tf.placeholder(tf.float32, [batch_size, 1])\n",
    "\n",
    "w = tf.Variable(tf.random_normal(shape = [9, 1], \n",
    "                                 stddev = tf.divide(tf.constant(1.0), \n",
    "                                                    tf.sqrt(tf.to_float(n))), \n",
    "                                 name = \"weights\"))\n",
    "b = tf.Variable(tf.zeros([1, 1]), name = \"bias\")\n",
    "                \n",
    "logits = tf.matmul(X, w) + b\n",
    "                \n",
    "entropy = tf.nn.sigmoid_cross_entropy_with_logits(logits = logits, labels = Y)\n",
    "loss = tf.reduce_mean(entropy)\n",
    "                \n",
    "optimizer = tf.train.GradientDescentOptimizer(learning_rate = learning_rate).minimize(loss)\n",
    "\n",
    "init = tf.global_variables_initializer()"
   ]
  },
  {
   "cell_type": "code",
   "execution_count": 48,
   "metadata": {},
   "outputs": [
    {
     "name": "stdout",
     "output_type": "stream",
     "text": [
      "Epoch: 0010 cost= 0.457957871\n",
      "Epoch: 0020 cost= 0.439646483\n",
      "Epoch: 0030 cost= 0.425174651\n",
      "Epoch: 0040 cost= 0.413752458\n",
      "Epoch: 0050 cost= 0.405909729\n",
      "Epoch: 0060 cost= 0.400188191\n",
      "Epoch: 0070 cost= 0.395126302\n",
      "Epoch: 0080 cost= 0.392532732\n",
      "Epoch: 0090 cost= 0.390646891\n",
      "Epoch: 0100 cost= 0.388190340\n",
      "Epoch: 0110 cost= 0.387582984\n",
      "Epoch: 0120 cost= 0.386398633\n",
      "Epoch: 0130 cost= 0.385535284\n",
      "Epoch: 0140 cost= 0.384302317\n",
      "Epoch: 0150 cost= 0.383438827\n",
      "Epoch: 0160 cost= 0.382796705\n",
      "Epoch: 0170 cost= 0.381411431\n",
      "Epoch: 0180 cost= 0.381304286\n",
      "Epoch: 0190 cost= 0.380471434\n",
      "Epoch: 0200 cost= 0.379730685\n"
     ]
    },
    {
     "data": {
      "image/png": "[encoded data removed]",
      "text/plain": [
       "<matplotlib.figure.Figure at 0x11a7dab00>"
      ]
     },
     "metadata": {},
     "output_type": "display_data"
    },
    {
     "name": "stdout",
     "output_type": "stream",
     "text": [
      "Validation Accuracy 0.6413043478260869\n",
      "Accuracy 0.6129032258064516\n"
     ]
    }
   ],
   "source": [
    "import matplotlib.pyplot as plt\n",
    "\n",
    "with tf.Session() as sess:\n",
    "    sess.run(init)\n",
    "    n_batches = int(n/batch_size)\n",
    "    costs = []\n",
    "    for i in range(n_epochs):\n",
    "        avg_cost = 0\n",
    "        X_data, Y_data = shuffle(X_data, Y_data)\n",
    "        for batch_num in range(n_batches):\n",
    "            X_batch = X_data[batch_num * batch_size:(batch_num + 1) * batch_size]\n",
    "            if (np.shape(X_batch)[0] == batch_size): # Ignore the remaining training data that don't divide into batch_size\n",
    "                Y_batch = Y_data[batch_num * batch_size:(batch_num + 1) * batch_size].reshape(batch_size, 1)\n",
    "                _, loss_batch = sess.run([optimizer, loss], feed_dict = {X: X_batch, Y: Y_batch})\n",
    "                avg_cost += loss_batch / n_batches\n",
    "        costs.append(avg_cost)\n",
    "        if (i+1) % display_step == 0:\n",
    "            print(\"Epoch:\", '%04d' % (i+1), \"cost=\", \"{:.9f}\".format(avg_cost))\n",
    "    plt.plot(costs)\n",
    "    plt.show()\n",
    "    # Validate the model \n",
    "    total_correct_preds_valid = 0\n",
    "    count_valid = 0\n",
    "    for batch_num in range(n_batches):\n",
    "        X_batch = X_validation_data[batch_num * batch_size:(batch_num + 1) * batch_size]\n",
    "        if (np.shape(X_batch)[0] == batch_size): # Ignore the remaining test data that don't divide into batch_size\n",
    "            Y_batch = Y_validation_data[batch_num * batch_size:(batch_num + 1) * batch_size].reshape(batch_size, 1)\n",
    "            _, loss_batch, logits_batch = sess.run([optimizer, loss, logits], feed_dict = {X: X_batch, Y: Y_batch})\n",
    "            preds = tf.nn.sigmoid(logits_batch)\n",
    "            correct_preds = tf.equal(tf.round(preds), tf.round(Y_batch))\n",
    "            accuracy = tf.reduce_sum(tf.cast(correct_preds, tf.float32))\n",
    "            total_correct_preds_valid += sess.run(accuracy)\n",
    "            count_valid += batch_size\n",
    "    print(\"Validation Accuracy {0}\".format(total_correct_preds_valid/count_valid))\n",
    "    # Test the model\n",
    "    total_correct_preds = 0\n",
    "    count = 0\n",
    "    for batch_num in range(n_batches):\n",
    "        X_batch = X_test_data[batch_num * batch_size:(batch_num + 1) * batch_size]\n",
    "        if (np.shape(X_batch)[0] == batch_size): # Ignore the remaining test data that don't divide into batch_size\n",
    "            Y_batch = Y_test_data[batch_num * batch_size:(batch_num + 1) * batch_size].reshape(batch_size, 1)\n",
    "            _, loss_batch, logits_batch = sess.run([optimizer, loss, logits], feed_dict = {X: X_batch, Y: Y_batch})\n",
    "            preds = tf.nn.sigmoid(logits_batch)\n",
    "            correct_preds = tf.equal(tf.round(preds), tf.round(Y_batch))\n",
    "            accuracy = tf.reduce_sum(tf.cast(correct_preds, tf.float32))\n",
    "            total_correct_preds += sess.run(accuracy)\n",
    "            count += batch_size\n",
    "    print(\"Accuracy {0}\".format(total_correct_preds/count))"
   ]
  },
  {
   "cell_type": "markdown",
   "metadata": {},
   "source": [
    "## Logistic regression with one-hot encoding: Does it perform better?"
   ]
  },
  {
   "cell_type": "markdown",
   "metadata": {},
   "source": [
    "## Benefits of one-hot encoding\n",
    "https://datascience.stackexchange.com/questions/9443/when-to-use-one-hot-encoding-vs-labelencoder-vs-dictvectorizor\n",
    "\n",
    "You express [dog,cat,dog,mouse,cat] as [1,2,1,3,2], but then the average of dog and mouse is cat.\n",
    "\n",
    "The benefit of one-hot encoding is that everything sits in an orthogonal vector space.\n",
    "\n",
    "For this problem, the label is already binary: has or not has coronary heart disease. It's not clear if one-hot encoding would affect performance."
   ]
  },
  {
   "cell_type": "code",
   "execution_count": 50,
   "metadata": {},
   "outputs": [],
   "source": [
    "from sklearn.preprocessing import OneHotEncoder\n",
    "\n",
    "enc = OneHotEncoder()\n",
    "enc.fit(np.split(dataset[:, 9], len(dataset))) # The encoder will \"fit\" the enumeration of possible y values\n",
    "\n",
    "\"\"\" Convert dataset to a numpy array \"\"\"\n",
    "dataset = np.array(dataset, dtype = np.float32)\n",
    "\n",
    "\"\"\" Convert to one-hot encoding \"\"\"\n",
    "X_data = dataset[:, :9]\n",
    "Y_data = enc.transform(np.split(dataset[:, 9], len(dataset))).toarray()\n",
    "\n",
    "\"\"\" Prepare dataset \"\"\"\n",
    "shuffle(X_data, Y_data)\n",
    "n = len(X_data)\n",
    "validation_start_idx = int(6 * n / 10)\n",
    "test_start_idx = int(8 * n / 10)\n",
    "\n",
    "\"\"\" Split dataset \"\"\"\n",
    "X_training = X_data[:validation_start_idx]\n",
    "X_validation = X_data[validation_start_idx:test_start_idx]\n",
    "X_test = X_data[test_start_idx:]\n",
    "Y_training = Y_data[:validation_start_idx]\n",
    "Y_validation = Y_data[validation_start_idx:test_start_idx]\n",
    "Y_test = Y_data[test_start_idx:]"
   ]
  },
  {
   "cell_type": "code",
   "execution_count": 70,
   "metadata": {
    "collapsed": true
   },
   "outputs": [],
   "source": [
    "import tensorflow as tf\n",
    "\n",
    "learning_rate = 0.000001\n",
    "batch_size = 1\n",
    "n_epochs = 200\n",
    "display_step = 10\n",
    "\n",
    "X = tf.placeholder(tf.float32, [batch_size, 9])\n",
    "Y = tf.placeholder(tf.float32, [batch_size, 2])\n",
    "\n",
    "w = tf.Variable(tf.random_normal(shape = [9, 2], \n",
    "                                 stddev = tf.divide(tf.constant(1.0), \n",
    "                                                    tf.sqrt(tf.to_float(n))), \n",
    "                                 name = \"weights\"))\n",
    "b = tf.Variable(tf.zeros([1, 2]), name = \"bias\")\n",
    "                \n",
    "logits = tf.matmul(X, w) + b\n",
    "                \n",
    "entropy = tf.nn.softmax_cross_entropy_with_logits(logits = logits, labels = Y)\n",
    "loss = tf.reduce_mean(entropy)\n",
    "                \n",
    "optimizer = tf.train.GradientDescentOptimizer(learning_rate = learning_rate).minimize(loss)\n",
    "\n",
    "init = tf.global_variables_initializer()"
   ]
  },
  {
   "cell_type": "code",
   "execution_count": 73,
   "metadata": {},
   "outputs": [
    {
     "name": "stdout",
     "output_type": "stream",
     "text": [
      "Epoch: 0010 cost= 0.431772394\n",
      "Epoch: 0020 cost= 0.419078763\n",
      "Epoch: 0030 cost= 0.408095386\n",
      "Epoch: 0040 cost= 0.401113304\n",
      "Epoch: 0050 cost= 0.394921375\n",
      "Epoch: 0060 cost= 0.389453553\n",
      "Epoch: 0070 cost= 0.385053512\n",
      "Epoch: 0080 cost= 0.380813056\n",
      "Epoch: 0090 cost= 0.377343726\n",
      "Epoch: 0100 cost= 0.375935849\n",
      "Epoch: 0110 cost= 0.373361611\n",
      "Epoch: 0120 cost= 0.370868697\n",
      "Epoch: 0130 cost= 0.367948116\n",
      "Epoch: 0140 cost= 0.367973625\n",
      "Epoch: 0150 cost= 0.365911855\n",
      "Epoch: 0160 cost= 0.364983325\n",
      "Epoch: 0170 cost= 0.365148028\n",
      "Epoch: 0180 cost= 0.364312570\n",
      "Epoch: 0190 cost= 0.364125625\n",
      "Epoch: 0200 cost= 0.362938181\n"
     ]
    },
    {
     "data": {
      "image/png": "[encoded data removed]",
      "text/plain": [
       "<matplotlib.figure.Figure at 0x11c202d30>"
      ]
     },
     "metadata": {},
     "output_type": "display_data"
    },
    {
     "name": "stdout",
     "output_type": "stream",
     "text": [
      "Validation Accuracy 0.7065217391304348\n",
      "Accuracy 0.6344086021505376\n"
     ]
    }
   ],
   "source": [
    "import matplotlib.pyplot as plt\n",
    "\n",
    "with tf.Session() as sess:\n",
    "    sess.run(init)\n",
    "    n_batches = int(n/batch_size)\n",
    "    costs = []\n",
    "    for i in range(n_epochs):\n",
    "        avg_cost = 0\n",
    "        X_training, Y_training = shuffle(X_training, Y_training)\n",
    "        for batch_num in range(n_batches):\n",
    "            X_batch = X_training[batch_num * batch_size:(batch_num + 1) * batch_size]\n",
    "            if (np.shape(X_batch)[0] == batch_size): # Ignore the remaining training data that don't divide into batch_size\n",
    "                Y_batch = Y_training[batch_num * batch_size:(batch_num + 1) * batch_size]\n",
    "                _, loss_batch = sess.run([optimizer, loss], feed_dict = {X: X_batch, Y: Y_batch})\n",
    "                avg_cost += loss_batch / n_batches\n",
    "        costs.append(avg_cost)\n",
    "        if (i+1) % display_step == 0:\n",
    "            print(\"Epoch:\", '%04d' % (i+1), \"cost=\", \"{:.9f}\".format(avg_cost))\n",
    "    plt.plot(costs)\n",
    "    plt.show()\n",
    "    # Validate the model \n",
    "    total_correct_preds_valid = 0\n",
    "    count_valid = 0\n",
    "    for batch_num in range(n_batches):\n",
    "        X_batch = X_validation[batch_num * batch_size:(batch_num + 1) * batch_size]\n",
    "        if (np.shape(X_batch)[0] == batch_size): # Ignore the remaining test data that don't divide into batch_size\n",
    "            Y_batch = Y_validation[batch_num * batch_size:(batch_num + 1) * batch_size]\n",
    "            _, loss_batch, logits_batch = sess.run([optimizer, loss, logits], feed_dict = {X: X_batch, Y: Y_batch})\n",
    "            preds = tf.nn.softmax(logits_batch)\n",
    "            correct_preds = tf.equal(tf.argmax(preds, axis=1), tf.argmax(Y_batch, axis=1))\n",
    "            accuracy = tf.reduce_sum(tf.cast(correct_preds, tf.float32))\n",
    "            total_correct_preds_valid += sess.run(accuracy)\n",
    "            count_valid += batch_size\n",
    "    print(\"Validation Accuracy {0}\".format(total_correct_preds_valid/count_valid))\n",
    "    # Test the model\n",
    "    total_correct_preds = 0\n",
    "    count = 0\n",
    "    for batch_num in range(n_batches):\n",
    "        X_batch = X_test[batch_num * batch_size:(batch_num + 1) * batch_size]\n",
    "        if (np.shape(X_batch)[0] == batch_size): # Ignore the remaining test data that don't divide into batch_size\n",
    "            Y_batch = Y_test[batch_num * batch_size:(batch_num + 1) * batch_size]\n",
    "            _, loss_batch, logits_batch = sess.run([optimizer, loss, logits], feed_dict = {X: X_batch, Y: Y_batch})\n",
    "            preds = tf.nn.softmax(logits_batch)\n",
    "            correct_preds = tf.equal(tf.argmax(preds, axis=1), tf.argmax(Y_batch, axis=1))\n",
    "            accuracy = tf.reduce_sum(tf.cast(correct_preds, tf.float32))\n",
    "            total_correct_preds += sess.run(accuracy)\n",
    "            count += batch_size\n",
    "    print(\"Accuracy {0}\".format(total_correct_preds/count))"
   ]
  },
  {
   "cell_type": "markdown",
   "metadata": {},
   "source": [
    "# Conclusion\n",
    "Logistic regression with tuned parameters and without one-hot encoding achieves 61.29% test accuracy.\n",
    "\n",
    "Logistic regression with tuned parameters and with one-hot encoding achieves 63.44% test accuracy."
   ]
  },
  {
   "cell_type": "code",
   "execution_count": null,
   "metadata": {
    "collapsed": true
   },
   "outputs": [],
   "source": []
  }
 ],
 "metadata": {
  "kernelspec": {
   "display_name": "Python 3",
   "language": "python",
   "name": "python3"
  },
  "language_info": {
   "codemirror_mode": {
    "name": "ipython",
    "version": 3
   },
   "file_extension": ".py",
   "mimetype": "text/x-python",
   "name": "python",
   "nbconvert_exporter": "python",
   "pygments_lexer": "ipython3",
   "version": "3.6.1"
  }
 },
 "nbformat": 4,
 "nbformat_minor": 2
}
